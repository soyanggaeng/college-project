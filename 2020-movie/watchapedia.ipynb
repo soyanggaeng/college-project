{
 "cells": [
  {
   "cell_type": "code",
   "execution_count": null,
   "metadata": {},
   "outputs": [],
   "source": [
    "from selenium import webdriver\n",
    "import time\n",
    "import openpyxl\n",
    "from selenium.webdriver.common.keys import Keys\n",
    "import pandas as pd\n",
    "\n",
    "mlist = pd.read_csv('./결측치 제외.csv')\n",
    "idnum = mlist['코드']\n",
    "searching = mlist['영화명']\n",
    "\n",
    "try:\n",
    "    wb = openpyxl.load_workbook(\"왓챠피디아.xlsx\")\n",
    "    sheet = wb.active\n",
    "    print(\"불러오기 완료\")\n",
    "except:\n",
    "    wb = openpyxl.Workbook()\n",
    "    sheet = wb.active\n",
    "    sheet.append([\"코드\", \"검색어\", \"영화명\", \"왓챠점수\"])\n",
    "    print(\"새로운 파일을 만들었습니다.\")\n",
    "\n",
    "driver = webdriver.Chrome(\"./chromedriver\")\n",
    "\n",
    "for i in range(4338, 10000):\n",
    "    try:\n",
    "        # 영화명으로 검색\n",
    "        driver.get(\"https://pedia.watcha.com/ko-KR\")\n",
    "        search_box = driver.find_element_by_css_selector(\"input#global_search_input\")\n",
    "        search_box.send_keys(searching[i])\n",
    "        search_box.send_keys(Keys.ENTER)\n",
    "        time.sleep(3)\n",
    "\n",
    "        # 첫 번째 검색어 선택\n",
    "        driver.find_elements_by_css_selector(\"section > div ul > li\")[0].click()\n",
    "        time.sleep(3)\n",
    "\n",
    "        # 평점 데이터 수집\n",
    "        mname = driver.find_element_by_css_selector(\"h1.css-1wnjyf4-Title\")\n",
    "        rating = driver.find_element_by_css_selector(\"div.css-1xlr4il-ContentRatings\")\n",
    "\n",
    "        # print(idnum[i], searching[i], mname.text, rating.text)\n",
    "        # print(\"=\"*30)\n",
    "        sheet.append([idnum[i], searching[i], mname.text, rating.text])\n",
    "        wb.save(\"왓챠피디아.xlsx\")\n",
    "\n",
    "    except:\n",
    "        print(idnum[i], \"오류 발생\")\n",
    "        continue\n",
    "\n",
    "driver.close()\n",
    "wb.save(\"왓챠피디아.xlsx\")"
   ]
  }
 ],
 "metadata": {
  "kernelspec": {
   "display_name": "Python 3",
   "language": "python",
   "name": "python3"
  },
  "language_info": {
   "codemirror_mode": {
    "name": "ipython",
    "version": 3
   },
   "file_extension": ".py",
   "mimetype": "text/x-python",
   "name": "python",
   "nbconvert_exporter": "python",
   "pygments_lexer": "ipython3",
   "version": "3.7.6"
  }
 },
 "nbformat": 4,
 "nbformat_minor": 4
}
